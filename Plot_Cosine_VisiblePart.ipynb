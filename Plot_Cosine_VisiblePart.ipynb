{
 "cells": [
  {
   "cell_type": "code",
   "execution_count": 1,
   "metadata": {
    "id": "oiGhTMLa63RA",
    "slideshow": {
     "slide_type": "-"
    }
   },
   "outputs": [],
   "source": [
    "import numpy as np\n",
    "import matplotlib.pyplot as plt\n",
    "import pandas as pd\n",
    "from numpy import exp, loadtxt, pi, sqrt"
   ]
  },
  {
   "cell_type": "code",
   "execution_count": 2,
   "metadata": {
    "colab": {
     "base_uri": "https://localhost:8080/"
    },
    "id": "YUFJKZ6gzPy9",
    "outputId": "a4ece318-f6ca-495a-9d8b-52fcefe1ec81"
   },
   "outputs": [],
   "source": [
    "#from google.colab import drive\n",
    "#drive.mount('/content/drive/')\n",
    "#cos_b1p1 = np.loadtxt('/content/drive/MyDrive/Mestrado/Boosted Dark Matter/cos_b1p1.txt')\n",
    "#cos_b1p5 = np.loadtxt('/content/drive/MyDrive/Mestrado/Boosted Dark Matter/cos_b1p5.txt')\n",
    "#cos_b10 = np.loadtxt('/content/drive/MyDrive/Mestrado/Boosted Dark Matter/cos_b10.txt')\n",
    "#pdg_b1p1 = np.loadtxt('/content/drive/MyDrive/Mestrado/Boosted Dark Matter/pdg_b1p1.txt')\n",
    "#pdg_b1p5 = np.loadtxt('/content/drive/MyDrive/Mestrado/Boosted Dark Matter/pdg_b1p5.txt')\n",
    "#pdg_b10 = np.loadtxt('/content/drive/MyDrive/Mestrado/Boosted Dark Matter/pdg_b10.txt')"
   ]
  },
  {
   "cell_type": "markdown",
   "metadata": {},
   "source": [
    "# Visible Particles including Neutrons"
   ]
  },
  {
   "cell_type": "code",
   "execution_count": 17,
   "metadata": {
    "id": "XE8S0424u5DR"
   },
   "outputs": [
    {
     "data": {
      "text/plain": [
       "Text(0, 0.5, 'Number of particles')"
      ]
     },
     "execution_count": 17,
     "metadata": {},
     "output_type": "execute_result"
    },
    {
     "data": {
      "image/png": "[encoded data removed]",
      "text/plain": [
       "<Figure size 432x288 with 1 Axes>"
      ]
     },
     "metadata": {
      "needs_background": "light"
     },
     "output_type": "display_data"
    }
   ],
   "source": [
    "cos_b1p1 = np.loadtxt('cos_b1p1.txt')\n",
    "cos_b1p5 = np.loadtxt('cos_b1p5.txt')\n",
    "cos_b10 = np.loadtxt('cos_b10.txt')\n",
    "\n",
    "plt.hist(cos_b1p1, bins = 40, color = \"blue\", histtype='step',log=True, lw=1, label='$\\gamma = 1.1$')\n",
    "plt.hist(cos_b1p5, bins = 40, color = \"green\", histtype='step',log=True, lw=1, label='$\\gamma = 1.5$')\n",
    "plt.hist(cos_b10, bins = 40, color = \"red\", histtype='step',log=True, lw=1,label='$\\gamma = 10$')\n",
    "\n",
    "plt.title('Leading Visible Particle - Neutrons included')\n",
    "plt.legend(loc='upper left', frameon=False)\n",
    "plt.xlabel(r'$cos(\\theta)$') \n",
    "plt.ylabel('Number of particles') "
   ]
  },
  {
   "cell_type": "code",
   "execution_count": 4,
   "metadata": {
    "id": "52Yqlf2ZO_v-"
   },
   "outputs": [],
   "source": [
    "#Counting the frequencies of the particles\n",
    "\n",
    "pdg_b1p1 = np.loadtxt('pdg_b1p1.txt')\n",
    "pdg_b1p5 = np.loadtxt('pdg_b1p5.txt')\n",
    "pdg_b10 = np.loadtxt('pdg_b10.txt')\n",
    "\n",
    "(unique, counts) = np.unique(pdg_b1p1, return_counts=True)\n",
    "\n",
    "freq_b1p1 = np.asarray((unique, counts)).T\n",
    "#print(freq_b1p1)\n",
    "\n",
    "(unique, counts) = np.unique(pdg_b1p5, return_counts=True)\n",
    "\n",
    "freq_b1p5 = np.asarray((unique, counts)).T\n",
    "#print(freq_b1p5)\n",
    "\n",
    "(unique, counts) = np.unique(pdg_b10, return_counts=True)\n",
    "\n",
    "freq_b10 = np.asarray((unique, counts)).T\n",
    "#print(freq_b10)\n",
    "\n"
   ]
  },
  {
   "cell_type": "code",
   "execution_count": 5,
   "metadata": {
    "slideshow": {
     "slide_type": "slide"
    }
   },
   "outputs": [
    {
     "name": "stdout",
     "output_type": "stream",
     "text": [
      "Gamma factor = 1.1\n"
     ]
    },
    {
     "data": {
      "text/html": [
       "<div>\n",
       "<style scoped>\n",
       "    .dataframe tbody tr th:only-of-type {\n",
       "        vertical-align: middle;\n",
       "    }\n",
       "\n",
       "    .dataframe tbody tr th {\n",
       "        vertical-align: top;\n",
       "    }\n",
       "\n",
       "    .dataframe thead th {\n",
       "        text-align: right;\n",
       "    }\n",
       "</style>\n",
       "<table border=\"1\" class=\"dataframe\">\n",
       "  <thead>\n",
       "    <tr style=\"text-align: right;\">\n",
       "      <th></th>\n",
       "      <th>PDG Code</th>\n",
       "      <th>#Particles</th>\n",
       "    </tr>\n",
       "  </thead>\n",
       "  <tbody>\n",
       "    <tr>\n",
       "      <th>0</th>\n",
       "      <td>2112</td>\n",
       "      <td>2691</td>\n",
       "    </tr>\n",
       "    <tr>\n",
       "      <th>1</th>\n",
       "      <td>2212</td>\n",
       "      <td>2309</td>\n",
       "    </tr>\n",
       "  </tbody>\n",
       "</table>\n",
       "</div>"
      ],
      "text/plain": [
       "   PDG Code  #Particles\n",
       "0      2112        2691\n",
       "1      2212        2309"
      ]
     },
     "execution_count": 5,
     "metadata": {},
     "output_type": "execute_result"
    }
   ],
   "source": [
    "data_b1p1 = {'PDG Code': freq_b1p1[:,0], '#Particles':freq_b1p1[:,1]}\n",
    "df_b1p1 = pd.DataFrame(data=data_b1p1,dtype=np.int)\n",
    "print(\"Gamma factor = 1.1\")\n",
    "df_b1p1 "
   ]
  },
  {
   "cell_type": "code",
   "execution_count": 6,
   "metadata": {},
   "outputs": [
    {
     "name": "stdout",
     "output_type": "stream",
     "text": [
      "Gamma factor = 1.5\n"
     ]
    },
    {
     "data": {
      "text/html": [
       "<div>\n",
       "<style scoped>\n",
       "    .dataframe tbody tr th:only-of-type {\n",
       "        vertical-align: middle;\n",
       "    }\n",
       "\n",
       "    .dataframe tbody tr th {\n",
       "        vertical-align: top;\n",
       "    }\n",
       "\n",
       "    .dataframe thead th {\n",
       "        text-align: right;\n",
       "    }\n",
       "</style>\n",
       "<table border=\"1\" class=\"dataframe\">\n",
       "  <thead>\n",
       "    <tr style=\"text-align: right;\">\n",
       "      <th></th>\n",
       "      <th>PDG Code</th>\n",
       "      <th>#Particles</th>\n",
       "    </tr>\n",
       "  </thead>\n",
       "  <tbody>\n",
       "    <tr>\n",
       "      <th>0</th>\n",
       "      <td>-211</td>\n",
       "      <td>46</td>\n",
       "    </tr>\n",
       "    <tr>\n",
       "      <th>1</th>\n",
       "      <td>111</td>\n",
       "      <td>33</td>\n",
       "    </tr>\n",
       "    <tr>\n",
       "      <th>2</th>\n",
       "      <td>211</td>\n",
       "      <td>17</td>\n",
       "    </tr>\n",
       "    <tr>\n",
       "      <th>3</th>\n",
       "      <td>2112</td>\n",
       "      <td>2448</td>\n",
       "    </tr>\n",
       "    <tr>\n",
       "      <th>4</th>\n",
       "      <td>2212</td>\n",
       "      <td>2456</td>\n",
       "    </tr>\n",
       "  </tbody>\n",
       "</table>\n",
       "</div>"
      ],
      "text/plain": [
       "   PDG Code  #Particles\n",
       "0      -211          46\n",
       "1       111          33\n",
       "2       211          17\n",
       "3      2112        2448\n",
       "4      2212        2456"
      ]
     },
     "execution_count": 6,
     "metadata": {},
     "output_type": "execute_result"
    }
   ],
   "source": [
    "data_b1p5 = {'PDG Code': freq_b1p5[:,0], '#Particles':freq_b1p5[:,1]}\n",
    "df_b1p5 = pd.DataFrame(data=data_b1p5,dtype=np.int)\n",
    "print(\"Gamma factor = 1.5\")\n",
    "df_b1p5 "
   ]
  },
  {
   "cell_type": "code",
   "execution_count": 7,
   "metadata": {},
   "outputs": [
    {
     "name": "stdout",
     "output_type": "stream",
     "text": [
      "Gamma factor = 10\n"
     ]
    },
    {
     "data": {
      "text/html": [
       "<div>\n",
       "<style scoped>\n",
       "    .dataframe tbody tr th:only-of-type {\n",
       "        vertical-align: middle;\n",
       "    }\n",
       "\n",
       "    .dataframe tbody tr th {\n",
       "        vertical-align: top;\n",
       "    }\n",
       "\n",
       "    .dataframe thead th {\n",
       "        text-align: right;\n",
       "    }\n",
       "</style>\n",
       "<table border=\"1\" class=\"dataframe\">\n",
       "  <thead>\n",
       "    <tr style=\"text-align: right;\">\n",
       "      <th></th>\n",
       "      <th>PDG Code</th>\n",
       "      <th>#Particles</th>\n",
       "    </tr>\n",
       "  </thead>\n",
       "  <tbody>\n",
       "    <tr>\n",
       "      <th>0</th>\n",
       "      <td>-2212</td>\n",
       "      <td>2</td>\n",
       "    </tr>\n",
       "    <tr>\n",
       "      <th>1</th>\n",
       "      <td>-2112</td>\n",
       "      <td>1</td>\n",
       "    </tr>\n",
       "    <tr>\n",
       "      <th>2</th>\n",
       "      <td>-323</td>\n",
       "      <td>8</td>\n",
       "    </tr>\n",
       "    <tr>\n",
       "      <th>3</th>\n",
       "      <td>-321</td>\n",
       "      <td>14</td>\n",
       "    </tr>\n",
       "    <tr>\n",
       "      <th>4</th>\n",
       "      <td>-313</td>\n",
       "      <td>13</td>\n",
       "    </tr>\n",
       "    <tr>\n",
       "      <th>5</th>\n",
       "      <td>-311</td>\n",
       "      <td>18</td>\n",
       "    </tr>\n",
       "    <tr>\n",
       "      <th>6</th>\n",
       "      <td>-211</td>\n",
       "      <td>597</td>\n",
       "    </tr>\n",
       "    <tr>\n",
       "      <th>7</th>\n",
       "      <td>111</td>\n",
       "      <td>593</td>\n",
       "    </tr>\n",
       "    <tr>\n",
       "      <th>8</th>\n",
       "      <td>211</td>\n",
       "      <td>478</td>\n",
       "    </tr>\n",
       "    <tr>\n",
       "      <th>9</th>\n",
       "      <td>311</td>\n",
       "      <td>58</td>\n",
       "    </tr>\n",
       "    <tr>\n",
       "      <th>10</th>\n",
       "      <td>313</td>\n",
       "      <td>22</td>\n",
       "    </tr>\n",
       "    <tr>\n",
       "      <th>11</th>\n",
       "      <td>321</td>\n",
       "      <td>37</td>\n",
       "    </tr>\n",
       "    <tr>\n",
       "      <th>12</th>\n",
       "      <td>323</td>\n",
       "      <td>27</td>\n",
       "    </tr>\n",
       "    <tr>\n",
       "      <th>13</th>\n",
       "      <td>331</td>\n",
       "      <td>14</td>\n",
       "    </tr>\n",
       "    <tr>\n",
       "      <th>14</th>\n",
       "      <td>333</td>\n",
       "      <td>2</td>\n",
       "    </tr>\n",
       "    <tr>\n",
       "      <th>15</th>\n",
       "      <td>2112</td>\n",
       "      <td>1357</td>\n",
       "    </tr>\n",
       "    <tr>\n",
       "      <th>16</th>\n",
       "      <td>2212</td>\n",
       "      <td>1580</td>\n",
       "    </tr>\n",
       "    <tr>\n",
       "      <th>17</th>\n",
       "      <td>3112</td>\n",
       "      <td>40</td>\n",
       "    </tr>\n",
       "    <tr>\n",
       "      <th>18</th>\n",
       "      <td>3114</td>\n",
       "      <td>8</td>\n",
       "    </tr>\n",
       "    <tr>\n",
       "      <th>19</th>\n",
       "      <td>3122</td>\n",
       "      <td>59</td>\n",
       "    </tr>\n",
       "    <tr>\n",
       "      <th>20</th>\n",
       "      <td>3212</td>\n",
       "      <td>12</td>\n",
       "    </tr>\n",
       "    <tr>\n",
       "      <th>21</th>\n",
       "      <td>3214</td>\n",
       "      <td>12</td>\n",
       "    </tr>\n",
       "    <tr>\n",
       "      <th>22</th>\n",
       "      <td>3222</td>\n",
       "      <td>36</td>\n",
       "    </tr>\n",
       "    <tr>\n",
       "      <th>23</th>\n",
       "      <td>3224</td>\n",
       "      <td>8</td>\n",
       "    </tr>\n",
       "    <tr>\n",
       "      <th>24</th>\n",
       "      <td>3314</td>\n",
       "      <td>1</td>\n",
       "    </tr>\n",
       "    <tr>\n",
       "      <th>25</th>\n",
       "      <td>3322</td>\n",
       "      <td>3</td>\n",
       "    </tr>\n",
       "  </tbody>\n",
       "</table>\n",
       "</div>"
      ],
      "text/plain": [
       "    PDG Code  #Particles\n",
       "0      -2212           2\n",
       "1      -2112           1\n",
       "2       -323           8\n",
       "3       -321          14\n",
       "4       -313          13\n",
       "5       -311          18\n",
       "6       -211         597\n",
       "7        111         593\n",
       "8        211         478\n",
       "9        311          58\n",
       "10       313          22\n",
       "11       321          37\n",
       "12       323          27\n",
       "13       331          14\n",
       "14       333           2\n",
       "15      2112        1357\n",
       "16      2212        1580\n",
       "17      3112          40\n",
       "18      3114           8\n",
       "19      3122          59\n",
       "20      3212          12\n",
       "21      3214          12\n",
       "22      3222          36\n",
       "23      3224           8\n",
       "24      3314           1\n",
       "25      3322           3"
      ]
     },
     "execution_count": 7,
     "metadata": {},
     "output_type": "execute_result"
    }
   ],
   "source": [
    "data_b10 = {'PDG Code': freq_b10[:,0], '#Particles':freq_b10[:,1]}\n",
    "df_b10 = pd.DataFrame(data=data_b10,dtype=np.int)\n",
    "print(\"Gamma factor = 10\")\n",
    "df_b10"
   ]
  },
  {
   "cell_type": "markdown",
   "metadata": {
    "id": "_I6mTRVO9Cp2",
    "slideshow": {
     "slide_type": "slide"
    }
   },
   "source": [
    "### Including Neutrons all events have a final state visible particle. \n",
    "### In the following analysis the neutrons are excluded (won = without neutrons).\n",
    "### When the PDG Code returns \"0\", it means that there is no final state visible particle in the event. \n",
    "### In the Cosine plot \"10\" is the default for no visible particle in the event."
   ]
  },
  {
   "cell_type": "code",
   "execution_count": 19,
   "metadata": {
    "id": "jgnE_mA-0Mrq"
   },
   "outputs": [
    {
     "data": {
      "text/plain": [
       "Text(0, 0.5, 'Number of particles')"
      ]
     },
     "execution_count": 19,
     "metadata": {},
     "output_type": "execute_result"
    },
    {
     "data": {
      "image/png": "[encoded data removed]",
      "text/plain": [
       "<Figure size 432x288 with 1 Axes>"
      ]
     },
     "metadata": {
      "needs_background": "light"
     },
     "output_type": "display_data"
    }
   ],
   "source": [
    "b1p1_won = np.loadtxt('cos_b1p1_won.txt')\n",
    "b1p5_won = np.loadtxt('cos_b1p5_won.txt')\n",
    "b10_won = np.loadtxt('cos_b10_won.txt')\n",
    "\n",
    "plt.hist(b1p1_won, bins = 40, color = \"blue\", histtype='step',log=True, lw=1,label='$\\gamma = 1.1$')\n",
    "plt.hist(b1p5_won, bins = 40, color = \"green\", histtype='step',log=True, lw=1, label='$\\gamma = 1.5$')\n",
    "plt.hist(b10_won, bins = 40, color = \"red\", histtype='step',log=True, lw=1, label='$\\gamma = 10$')\n",
    "\n",
    "plt.title('Leading Visible Particle - without Neutrons')\n",
    "plt.legend(loc='upper center', frameon=False)\n",
    "plt.xlabel(r'$cos(\\theta)$') \n",
    "plt.ylabel('Number of particles') \n",
    "#plt.yscale(\"log\")"
   ]
  },
  {
   "cell_type": "markdown",
   "metadata": {},
   "source": [
    "#### Excluding events with no visible particles in the final state"
   ]
  },
  {
   "cell_type": "code",
   "execution_count": 21,
   "metadata": {},
   "outputs": [
    {
     "data": {
      "text/plain": [
       "Text(0, 0.5, 'Number of particles')"
      ]
     },
     "execution_count": 21,
     "metadata": {},
     "output_type": "execute_result"
    },
    {
     "data": {
      "image/png": "[encoded data removed]",
      "text/plain": [
       "<Figure size 432x288 with 1 Axes>"
      ]
     },
     "metadata": {
      "needs_background": "light"
     },
     "output_type": "display_data"
    }
   ],
   "source": [
    "plt.hist(b1p1_won[b1p1_won<10], bins = 40, color = \"blue\", histtype='step',log=True, lw=1,label='$\\gamma = 1.1$')\n",
    "plt.hist(b1p5_won[b1p5_won<10], bins = 40, color = \"green\", histtype='step',log=True, lw=1, label='$\\gamma = 1.5$')\n",
    "plt.hist(b10_won[b10_won<10], bins = 40, color = \"red\", histtype='step',log=True, lw=1, label='$\\gamma = 10$')\n",
    "\n",
    "plt.legend(loc='upper left', frameon=False)\n",
    "plt.title('Leading Visible Particle - without Neutrons')\n",
    "plt.xlabel(r'$cos(\\theta)$') \n",
    "plt.ylabel('Number of particles') "
   ]
  },
  {
   "cell_type": "code",
   "execution_count": 50,
   "metadata": {
    "id": "EUGmzdZT6hVo"
   },
   "outputs": [],
   "source": [
    "#Counting the frequencies of the particles\n",
    "\n",
    "pdg_b1p1_won = np.loadtxt('pdg_b1p1_won.txt')\n",
    "pdg_b1p5_won = np.loadtxt('pdg_b1p5_won.txt')\n",
    "pdg_b10_won = np.loadtxt('pdg_b10_won.txt')\n",
    "\n",
    "(unique, counts) = np.unique(pdg_b1p1_won, return_counts=True)\n",
    "freq_b1p1_won = np.asarray((unique, counts)).T\n",
    "#print(freq_b1p1_won)\n",
    "\n",
    "(unique, counts) = np.unique(pdg_b1p5_won, return_counts=True)\n",
    "freq_b1p5_won = np.asarray((unique, counts)).T\n",
    "#print(freq_b1p5_won)\n",
    "\n",
    "(unique, counts) = np.unique(pdg_b10_won, return_counts=True)\n",
    "freq_b10_won = np.asarray((unique, counts)).T\n",
    "#print(freq_b10_won)"
   ]
  },
  {
   "cell_type": "code",
   "execution_count": 51,
   "metadata": {
    "id": "z5fPaEZfpIFv"
   },
   "outputs": [
    {
     "name": "stdout",
     "output_type": "stream",
     "text": [
      "Gamma factor = 1.1\n"
     ]
    },
    {
     "data": {
      "text/html": [
       "<div>\n",
       "<style scoped>\n",
       "    .dataframe tbody tr th:only-of-type {\n",
       "        vertical-align: middle;\n",
       "    }\n",
       "\n",
       "    .dataframe tbody tr th {\n",
       "        vertical-align: top;\n",
       "    }\n",
       "\n",
       "    .dataframe thead th {\n",
       "        text-align: right;\n",
       "    }\n",
       "</style>\n",
       "<table border=\"1\" class=\"dataframe\">\n",
       "  <thead>\n",
       "    <tr style=\"text-align: right;\">\n",
       "      <th></th>\n",
       "      <th>PDG Code</th>\n",
       "      <th>#Particles</th>\n",
       "    </tr>\n",
       "  </thead>\n",
       "  <tbody>\n",
       "    <tr>\n",
       "      <th>0</th>\n",
       "      <td>0</td>\n",
       "      <td>1478</td>\n",
       "    </tr>\n",
       "    <tr>\n",
       "      <th>1</th>\n",
       "      <td>111</td>\n",
       "      <td>1</td>\n",
       "    </tr>\n",
       "    <tr>\n",
       "      <th>2</th>\n",
       "      <td>2212</td>\n",
       "      <td>3521</td>\n",
       "    </tr>\n",
       "  </tbody>\n",
       "</table>\n",
       "</div>"
      ],
      "text/plain": [
       "   PDG Code  #Particles\n",
       "0         0        1478\n",
       "1       111           1\n",
       "2      2212        3521"
      ]
     },
     "execution_count": 51,
     "metadata": {},
     "output_type": "execute_result"
    }
   ],
   "source": [
    "data_b1p1_won = {'PDG Code': freq_b1p1_won[:,0], '#Particles':freq_b1p1_won[:,1]}\n",
    "df_b1p1_won = pd.DataFrame(data=data_b1p1_won,dtype=np.int)\n",
    "print(\"Gamma factor = 1.1\")\n",
    "df_b1p1_won"
   ]
  },
  {
   "cell_type": "code",
   "execution_count": 53,
   "metadata": {},
   "outputs": [
    {
     "name": "stdout",
     "output_type": "stream",
     "text": [
      "Gamma factor = 1.5\n"
     ]
    },
    {
     "data": {
      "text/html": [
       "<div>\n",
       "<style scoped>\n",
       "    .dataframe tbody tr th:only-of-type {\n",
       "        vertical-align: middle;\n",
       "    }\n",
       "\n",
       "    .dataframe tbody tr th {\n",
       "        vertical-align: top;\n",
       "    }\n",
       "\n",
       "    .dataframe thead th {\n",
       "        text-align: right;\n",
       "    }\n",
       "</style>\n",
       "<table border=\"1\" class=\"dataframe\">\n",
       "  <thead>\n",
       "    <tr style=\"text-align: right;\">\n",
       "      <th></th>\n",
       "      <th>PDG Code</th>\n",
       "      <th>#Particles</th>\n",
       "    </tr>\n",
       "  </thead>\n",
       "  <tbody>\n",
       "    <tr>\n",
       "      <th>0</th>\n",
       "      <td>-211</td>\n",
       "      <td>63</td>\n",
       "    </tr>\n",
       "    <tr>\n",
       "      <th>1</th>\n",
       "      <td>0</td>\n",
       "      <td>217</td>\n",
       "    </tr>\n",
       "    <tr>\n",
       "      <th>2</th>\n",
       "      <td>111</td>\n",
       "      <td>357</td>\n",
       "    </tr>\n",
       "    <tr>\n",
       "      <th>3</th>\n",
       "      <td>211</td>\n",
       "      <td>385</td>\n",
       "    </tr>\n",
       "    <tr>\n",
       "      <th>4</th>\n",
       "      <td>2212</td>\n",
       "      <td>3978</td>\n",
       "    </tr>\n",
       "  </tbody>\n",
       "</table>\n",
       "</div>"
      ],
      "text/plain": [
       "   PDG Code  #Particles\n",
       "0      -211          63\n",
       "1         0         217\n",
       "2       111         357\n",
       "3       211         385\n",
       "4      2212        3978"
      ]
     },
     "execution_count": 53,
     "metadata": {},
     "output_type": "execute_result"
    }
   ],
   "source": [
    "data_b1p5_won = {'PDG Code': freq_b1p5_won[:,0], '#Particles':freq_b1p5_won[:,1]}\n",
    "df_b1p5_won = pd.DataFrame(data=data_b1p5_won,dtype=np.int)\n",
    "print(\"Gamma factor = 1.5\")\n",
    "df_b1p5_won"
   ]
  },
  {
   "cell_type": "code",
   "execution_count": 54,
   "metadata": {},
   "outputs": [
    {
     "name": "stdout",
     "output_type": "stream",
     "text": [
      "Gamma factor = 10\n"
     ]
    },
    {
     "data": {
      "text/html": [
       "<div>\n",
       "<style scoped>\n",
       "    .dataframe tbody tr th:only-of-type {\n",
       "        vertical-align: middle;\n",
       "    }\n",
       "\n",
       "    .dataframe tbody tr th {\n",
       "        vertical-align: top;\n",
       "    }\n",
       "\n",
       "    .dataframe thead th {\n",
       "        text-align: right;\n",
       "    }\n",
       "</style>\n",
       "<table border=\"1\" class=\"dataframe\">\n",
       "  <thead>\n",
       "    <tr style=\"text-align: right;\">\n",
       "      <th></th>\n",
       "      <th>PDG Code</th>\n",
       "      <th>#Particles</th>\n",
       "    </tr>\n",
       "  </thead>\n",
       "  <tbody>\n",
       "    <tr>\n",
       "      <th>0</th>\n",
       "      <td>-2212</td>\n",
       "      <td>3</td>\n",
       "    </tr>\n",
       "    <tr>\n",
       "      <th>1</th>\n",
       "      <td>-323</td>\n",
       "      <td>8</td>\n",
       "    </tr>\n",
       "    <tr>\n",
       "      <th>2</th>\n",
       "      <td>-321</td>\n",
       "      <td>17</td>\n",
       "    </tr>\n",
       "    <tr>\n",
       "      <th>3</th>\n",
       "      <td>-313</td>\n",
       "      <td>13</td>\n",
       "    </tr>\n",
       "    <tr>\n",
       "      <th>4</th>\n",
       "      <td>-311</td>\n",
       "      <td>22</td>\n",
       "    </tr>\n",
       "    <tr>\n",
       "      <th>5</th>\n",
       "      <td>-211</td>\n",
       "      <td>743</td>\n",
       "    </tr>\n",
       "    <tr>\n",
       "      <th>6</th>\n",
       "      <td>0</td>\n",
       "      <td>16</td>\n",
       "    </tr>\n",
       "    <tr>\n",
       "      <th>7</th>\n",
       "      <td>111</td>\n",
       "      <td>957</td>\n",
       "    </tr>\n",
       "    <tr>\n",
       "      <th>8</th>\n",
       "      <td>211</td>\n",
       "      <td>791</td>\n",
       "    </tr>\n",
       "    <tr>\n",
       "      <th>9</th>\n",
       "      <td>311</td>\n",
       "      <td>64</td>\n",
       "    </tr>\n",
       "    <tr>\n",
       "      <th>10</th>\n",
       "      <td>313</td>\n",
       "      <td>22</td>\n",
       "    </tr>\n",
       "    <tr>\n",
       "      <th>11</th>\n",
       "      <td>321</td>\n",
       "      <td>43</td>\n",
       "    </tr>\n",
       "    <tr>\n",
       "      <th>12</th>\n",
       "      <td>323</td>\n",
       "      <td>27</td>\n",
       "    </tr>\n",
       "    <tr>\n",
       "      <th>13</th>\n",
       "      <td>331</td>\n",
       "      <td>19</td>\n",
       "    </tr>\n",
       "    <tr>\n",
       "      <th>14</th>\n",
       "      <td>333</td>\n",
       "      <td>2</td>\n",
       "    </tr>\n",
       "    <tr>\n",
       "      <th>15</th>\n",
       "      <td>2212</td>\n",
       "      <td>2074</td>\n",
       "    </tr>\n",
       "    <tr>\n",
       "      <th>16</th>\n",
       "      <td>3112</td>\n",
       "      <td>40</td>\n",
       "    </tr>\n",
       "    <tr>\n",
       "      <th>17</th>\n",
       "      <td>3114</td>\n",
       "      <td>8</td>\n",
       "    </tr>\n",
       "    <tr>\n",
       "      <th>18</th>\n",
       "      <td>3122</td>\n",
       "      <td>59</td>\n",
       "    </tr>\n",
       "    <tr>\n",
       "      <th>19</th>\n",
       "      <td>3212</td>\n",
       "      <td>12</td>\n",
       "    </tr>\n",
       "    <tr>\n",
       "      <th>20</th>\n",
       "      <td>3214</td>\n",
       "      <td>12</td>\n",
       "    </tr>\n",
       "    <tr>\n",
       "      <th>21</th>\n",
       "      <td>3222</td>\n",
       "      <td>36</td>\n",
       "    </tr>\n",
       "    <tr>\n",
       "      <th>22</th>\n",
       "      <td>3224</td>\n",
       "      <td>8</td>\n",
       "    </tr>\n",
       "    <tr>\n",
       "      <th>23</th>\n",
       "      <td>3314</td>\n",
       "      <td>1</td>\n",
       "    </tr>\n",
       "    <tr>\n",
       "      <th>24</th>\n",
       "      <td>3322</td>\n",
       "      <td>3</td>\n",
       "    </tr>\n",
       "  </tbody>\n",
       "</table>\n",
       "</div>"
      ],
      "text/plain": [
       "    PDG Code  #Particles\n",
       "0      -2212           3\n",
       "1       -323           8\n",
       "2       -321          17\n",
       "3       -313          13\n",
       "4       -311          22\n",
       "5       -211         743\n",
       "6          0          16\n",
       "7        111         957\n",
       "8        211         791\n",
       "9        311          64\n",
       "10       313          22\n",
       "11       321          43\n",
       "12       323          27\n",
       "13       331          19\n",
       "14       333           2\n",
       "15      2212        2074\n",
       "16      3112          40\n",
       "17      3114           8\n",
       "18      3122          59\n",
       "19      3212          12\n",
       "20      3214          12\n",
       "21      3222          36\n",
       "22      3224           8\n",
       "23      3314           1\n",
       "24      3322           3"
      ]
     },
     "execution_count": 54,
     "metadata": {},
     "output_type": "execute_result"
    }
   ],
   "source": [
    "data_b10_won = {'PDG Code': freq_b10_won[:,0], '#Particles':freq_b10_won[:,1]}\n",
    "df_b10_won = pd.DataFrame(data=data_b10_won,dtype=np.int, index=)\n",
    "print(\"Gamma factor = 10\")\n",
    "df_b10_won"
   ]
  },
  {
   "cell_type": "code",
   "execution_count": null,
   "metadata": {},
   "outputs": [],
   "source": []
  }
 ],
 "metadata": {
  "celltoolbar": "Slideshow",
  "colab": {
   "name": "Plot_Cosine_VisiblePart",
   "provenance": [],
   "toc_visible": true
  },
  "kernelspec": {
   "display_name": "Python 3",
   "language": "python",
   "name": "python3"
  },
  "language_info": {
   "codemirror_mode": {
    "name": "ipython",
    "version": 3
   },
   "file_extension": ".py",
   "mimetype": "text/x-python",
   "name": "python",
   "nbconvert_exporter": "python",
   "pygments_lexer": "ipython3",
   "version": "3.6.9"
  }
 },
 "nbformat": 4,
 "nbformat_minor": 1
}
